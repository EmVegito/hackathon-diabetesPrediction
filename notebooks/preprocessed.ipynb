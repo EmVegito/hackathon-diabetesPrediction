{
 "cells": [
  {
   "cell_type": "code",
   "execution_count": 1,
   "id": "68eb7f58",
   "metadata": {},
   "outputs": [],
   "source": [
    "import pandas as pd\n",
    "import numpy as np\n",
    "from sklearn.preprocessing import StandardScaler\n",
    "import matplotlib.pyplot as plt\n",
    "import seaborn as sns"
   ]
  },
  {
   "cell_type": "code",
   "execution_count": 2,
   "id": "f06b31fb",
   "metadata": {},
   "outputs": [],
   "source": [
    "df = pd.read_csv('diabetes.csv')"
   ]
  },
  {
   "cell_type": "code",
   "execution_count": 3,
   "id": "06569453",
   "metadata": {},
   "outputs": [
    {
     "name": "stdout",
     "output_type": "stream",
     "text": [
      "Dataset Information:\n",
      "Shape: (768, 9)\n",
      "\n",
      "First 5 rows:\n",
      "   Pregnancies  Glucose  BloodPressure  SkinThickness  Insulin   BMI  \\\n",
      "0            6      148             72             35        0  33.6   \n",
      "1            1       85             66             29        0  26.6   \n",
      "2            8      183             64              0        0  23.3   \n",
      "3            1       89             66             23       94  28.1   \n",
      "4            0      137             40             35      168  43.1   \n",
      "\n",
      "   DiabetesPedigreeFunction  Age  Outcome  \n",
      "0                     0.627   50        1  \n",
      "1                     0.351   31        0  \n",
      "2                     0.672   32        1  \n",
      "3                     0.167   21        0  \n",
      "4                     2.288   33        1  \n"
     ]
    }
   ],
   "source": [
    "print(\"Dataset Information:\")\n",
    "print(f\"Shape: {df.shape}\")\n",
    "print(\"\\nFirst 5 rows:\")\n",
    "print(df.head())\n"
   ]
  },
  {
   "cell_type": "code",
   "execution_count": 4,
   "id": "68ad6cef",
   "metadata": {},
   "outputs": [
    {
     "name": "stdout",
     "output_type": "stream",
     "text": [
      "\n",
      "Dataset description:\n",
      "       Pregnancies     Glucose  BloodPressure  SkinThickness     Insulin  \\\n",
      "count   768.000000  768.000000     768.000000     768.000000  768.000000   \n",
      "mean      3.845052  120.894531      69.105469      20.536458   79.799479   \n",
      "std       3.369578   31.972618      19.355807      15.952218  115.244002   \n",
      "min       0.000000    0.000000       0.000000       0.000000    0.000000   \n",
      "25%       1.000000   99.000000      62.000000       0.000000    0.000000   \n",
      "50%       3.000000  117.000000      72.000000      23.000000   30.500000   \n",
      "75%       6.000000  140.250000      80.000000      32.000000  127.250000   \n",
      "max      17.000000  199.000000     122.000000      99.000000  846.000000   \n",
      "\n",
      "              BMI  DiabetesPedigreeFunction         Age     Outcome  \n",
      "count  768.000000                768.000000  768.000000  768.000000  \n",
      "mean    31.992578                  0.471876   33.240885    0.348958  \n",
      "std      7.884160                  0.331329   11.760232    0.476951  \n",
      "min      0.000000                  0.078000   21.000000    0.000000  \n",
      "25%     27.300000                  0.243750   24.000000    0.000000  \n",
      "50%     32.000000                  0.372500   29.000000    0.000000  \n",
      "75%     36.600000                  0.626250   41.000000    1.000000  \n",
      "max     67.100000                  2.420000   81.000000    1.000000  \n"
     ]
    }
   ],
   "source": [
    "print(\"\\nDataset description:\")\n",
    "print(df.describe())"
   ]
  },
  {
   "cell_type": "code",
   "execution_count": 5,
   "id": "410fef88",
   "metadata": {},
   "outputs": [
    {
     "name": "stdout",
     "output_type": "stream",
     "text": [
      "\n",
      "Missing values:\n",
      "Pregnancies                 0\n",
      "Glucose                     0\n",
      "BloodPressure               0\n",
      "SkinThickness               0\n",
      "Insulin                     0\n",
      "BMI                         0\n",
      "DiabetesPedigreeFunction    0\n",
      "Age                         0\n",
      "Outcome                     0\n",
      "dtype: int64\n"
     ]
    }
   ],
   "source": [
    "print(\"\\nMissing values:\")\n",
    "print(df.isnull().sum())"
   ]
  },
  {
   "cell_type": "code",
   "execution_count": 6,
   "id": "5d3e180a",
   "metadata": {},
   "outputs": [
    {
     "name": "stdout",
     "output_type": "stream",
     "text": [
      "\n",
      "Zero values in columns where zero might represent missing data:\n",
      "Glucose: 5 zeros (0.65%)\n",
      "BloodPressure: 35 zeros (4.56%)\n",
      "SkinThickness: 227 zeros (29.56%)\n",
      "Insulin: 374 zeros (48.70%)\n",
      "BMI: 11 zeros (1.43%)\n"
     ]
    }
   ],
   "source": [
    "print(\"\\nZero values in columns where zero might represent missing data:\")\n",
    "for column in ['Glucose', 'BloodPressure', 'SkinThickness', 'Insulin', 'BMI']:\n",
    "    zero_count = len(df[df[column] == 0])\n",
    "    print(f\"{column}: {zero_count} zeros ({zero_count/len(df)*100:.2f}%)\")"
   ]
  },
  {
   "cell_type": "code",
   "execution_count": 8,
   "id": "7e77e5b6",
   "metadata": {},
   "outputs": [],
   "source": [
    "for column in ['Glucose', 'BloodPressure', 'SkinThickness', 'Insulin', 'BMI']:\n",
    "    df[column] = df[column].replace(0, np.nan)"
   ]
  },
  {
   "cell_type": "code",
   "execution_count": 9,
   "id": "f09af15a",
   "metadata": {},
   "outputs": [
    {
     "name": "stdout",
     "output_type": "stream",
     "text": [
      "\n",
      "Missing values after replacing zeros with NaN:\n",
      "Pregnancies                   0\n",
      "Glucose                       5\n",
      "BloodPressure                35\n",
      "SkinThickness               227\n",
      "Insulin                     374\n",
      "BMI                          11\n",
      "DiabetesPedigreeFunction      0\n",
      "Age                           0\n",
      "Outcome                       0\n",
      "dtype: int64\n"
     ]
    }
   ],
   "source": [
    "print(\"\\nMissing values after replacing zeros with NaN:\")\n",
    "print(df.isnull().sum())"
   ]
  },
  {
   "cell_type": "code",
   "execution_count": 10,
   "id": "fa34c8c1",
   "metadata": {},
   "outputs": [
    {
     "name": "stdout",
     "output_type": "stream",
     "text": [
      "\n",
      "Checking if any missing values remain:\n",
      "Pregnancies                 0\n",
      "Glucose                     0\n",
      "BloodPressure               0\n",
      "SkinThickness               0\n",
      "Insulin                     0\n",
      "BMI                         0\n",
      "DiabetesPedigreeFunction    0\n",
      "Age                         0\n",
      "Outcome                     0\n",
      "dtype: int64\n"
     ]
    }
   ],
   "source": [
    "for column in ['Glucose', 'BloodPressure', 'SkinThickness', 'Insulin', 'BMI']:\n",
    "    median_value = df[column].median()\n",
    "    df[column] = df[column].fillna(median_value)\n",
    "\n",
    "print(\"\\nChecking if any missing values remain:\")\n",
    "print(df.isnull().sum())"
   ]
  },
  {
   "cell_type": "code",
   "execution_count": 11,
   "id": "19e55eb8",
   "metadata": {},
   "outputs": [],
   "source": [
    "age_bins = [20, 30, 40, 50, 60, 100]\n",
    "age_labels = ['20-30', '31-40', '41-50', '51-60', '61+']\n",
    "df['AgeGroup'] = pd.cut(df['Age'], bins=age_bins, labels=age_labels)"
   ]
  },
  {
   "cell_type": "code",
   "execution_count": 12,
   "id": "88e24139",
   "metadata": {},
   "outputs": [],
   "source": [
    "age_dummies = pd.get_dummies(df['AgeGroup'], prefix='Age')\n",
    "df = pd.concat([df, age_dummies], axis=1)"
   ]
  },
  {
   "cell_type": "code",
   "execution_count": 13,
   "id": "b5e29de4",
   "metadata": {},
   "outputs": [],
   "source": [
    "bmi_bins = [0, 18.5, 25, 30, 35, 100]\n",
    "bmi_labels = ['Underweight', 'Normal', 'Overweight', 'Obese_Class_1', 'Obese_Class_2+']\n",
    "df['BMICategory'] = pd.cut(df['BMI'], bins=bmi_bins, labels=bmi_labels)"
   ]
  },
  {
   "cell_type": "code",
   "execution_count": 14,
   "id": "fc7c168d",
   "metadata": {},
   "outputs": [],
   "source": [
    "bmi_dummies = pd.get_dummies(df['BMICategory'], prefix='BMI')\n",
    "df = pd.concat([df, bmi_dummies], axis=1)"
   ]
  },
  {
   "cell_type": "code",
   "execution_count": 15,
   "id": "7e506997",
   "metadata": {},
   "outputs": [],
   "source": [
    "glucose_bins = [0, 70, 100, 126, 300]\n",
    "glucose_labels = ['Low', 'Normal', 'Prediabetes', 'Diabetes']\n",
    "df['GlucoseCategory'] = pd.cut(df['Glucose'], bins=glucose_bins, labels=glucose_labels)"
   ]
  },
  {
   "cell_type": "code",
   "execution_count": 16,
   "id": "9daaccfc",
   "metadata": {},
   "outputs": [],
   "source": [
    "glucose_dummies = pd.get_dummies(df['GlucoseCategory'], prefix='Glucose')\n",
    "df = pd.concat([df, glucose_dummies], axis=1)"
   ]
  },
  {
   "cell_type": "code",
   "execution_count": 17,
   "id": "7d563088",
   "metadata": {},
   "outputs": [],
   "source": [
    "df['DiabetesRiskScore'] = (\n",
    "    (df['Glucose'] / 100) * 0.3 + \n",
    "    (df['BMI'] / 30) * 0.25 + \n",
    "    (df['Age'] / 50) * 0.15 + \n",
    "    (df['Insulin'] / 100) * 0.15 + \n",
    "    (df['DiabetesPedigreeFunction']) * 0.15\n",
    ")\n",
    "\n",
    "df['BMI_Age_Interaction'] = df['BMI'] * df['Age'] / 100\n",
    "\n",
    "df['Insulin_Glucose_Ratio'] = df['Insulin'] / df['Glucose']\n",
    "\n",
    "df['BP_Age_Ratio'] = df['BloodPressure'] / df['Age']"
   ]
  },
  {
   "cell_type": "code",
   "execution_count": 18,
   "id": "c305d6d0",
   "metadata": {},
   "outputs": [],
   "source": [
    "scaler = StandardScaler()\n",
    "numerical_columns = ['Pregnancies', 'Glucose', 'BloodPressure', 'SkinThickness', \n",
    "                      'Insulin', 'BMI', 'DiabetesPedigreeFunction', 'Age',\n",
    "                      'DiabetesRiskScore', 'BMI_Age_Interaction', \n",
    "                      'Insulin_Glucose_Ratio', 'BP_Age_Ratio']\n",
    "\n",
    "df[numerical_columns] = scaler.fit_transform(df[numerical_columns])"
   ]
  },
  {
   "cell_type": "code",
   "execution_count": 19,
   "id": "0fcb934d",
   "metadata": {},
   "outputs": [],
   "source": [
    "df = df.drop(['AgeGroup', 'BMICategory', 'GlucoseCategory'], axis=1)"
   ]
  },
  {
   "cell_type": "code",
   "execution_count": 20,
   "id": "e98d54f9",
   "metadata": {},
   "outputs": [
    {
     "name": "stdout",
     "output_type": "stream",
     "text": [
      "\n",
      "Preprocessed dataset information:\n",
      "Shape: (768, 27)\n",
      "\n",
      "Columns in the preprocessed dataset:\n",
      "['Pregnancies', 'Glucose', 'BloodPressure', 'SkinThickness', 'Insulin', 'BMI', 'DiabetesPedigreeFunction', 'Age', 'Outcome', 'Age_20-30', 'Age_31-40', 'Age_41-50', 'Age_51-60', 'Age_61+', 'BMI_Underweight', 'BMI_Normal', 'BMI_Overweight', 'BMI_Obese_Class_1', 'BMI_Obese_Class_2+', 'Glucose_Low', 'Glucose_Normal', 'Glucose_Prediabetes', 'Glucose_Diabetes', 'DiabetesRiskScore', 'BMI_Age_Interaction', 'Insulin_Glucose_Ratio', 'BP_Age_Ratio']\n"
     ]
    }
   ],
   "source": [
    "df.to_csv('../data/diabetes_preprocessed.csv', index=False)\n",
    "\n",
    "print(\"\\nPreprocessed dataset information:\")\n",
    "print(f\"Shape: {df.shape}\")\n",
    "print(\"\\nColumns in the preprocessed dataset:\")\n",
    "print(df.columns.tolist())"
   ]
  },
  {
   "cell_type": "code",
   "execution_count": 21,
   "id": "71e89726",
   "metadata": {},
   "outputs": [
    {
     "name": "stdout",
     "output_type": "stream",
     "text": [
      "\n",
      "Feature correlations with the target variable (Outcome):\n",
      "Outcome                     1.000000\n",
      "Glucose                     0.492782\n",
      "DiabetesRiskScore           0.458755\n",
      "BMI_Age_Interaction         0.362990\n",
      "BMI                         0.312038\n",
      "Age                         0.238356\n",
      "Pregnancies                 0.221898\n",
      "SkinThickness               0.214873\n",
      "Insulin                     0.203790\n",
      "DiabetesPedigreeFunction    0.173844\n",
      "BloodPressure               0.165723\n",
      "Insulin_Glucose_Ratio       0.013639\n",
      "BP_Age_Ratio               -0.205416\n",
      "Name: Outcome, dtype: float64\n"
     ]
    }
   ],
   "source": [
    "correlations = df[numerical_columns + ['Outcome']].corr()['Outcome'].sort_values(ascending=False)\n",
    "print(\"\\nFeature correlations with the target variable (Outcome):\")\n",
    "print(correlations)"
   ]
  },
  {
   "cell_type": "code",
   "execution_count": null,
   "id": "6008c1a2",
   "metadata": {},
   "outputs": [],
   "source": []
  }
 ],
 "metadata": {
  "kernelspec": {
   "display_name": "Python 3",
   "language": "python",
   "name": "python3"
  },
  "language_info": {
   "codemirror_mode": {
    "name": "ipython",
    "version": 3
   },
   "file_extension": ".py",
   "mimetype": "text/x-python",
   "name": "python",
   "nbconvert_exporter": "python",
   "pygments_lexer": "ipython3",
   "version": "3.13.1"
  }
 },
 "nbformat": 4,
 "nbformat_minor": 5
}

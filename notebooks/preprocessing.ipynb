{
 "cells": [
  {
   "cell_type": "code",
   "execution_count": null,
   "id": "bec67d98",
   "metadata": {},
   "outputs": [],
   "source": []
  },
  {
   "cell_type": "code",
   "execution_count": 2,
   "id": "06da9a8f",
   "metadata": {},
   "outputs": [],
   "source": [
    "\n",
    "import pandas as pd\n",
    "import numpy as np\n",
    "from sklearn.preprocessing import StandardScaler, LabelEncoder\n",
    "import matplotlib.pyplot as plt\n",
    "import seaborn as sns\n"
   ]
  },
  {
   "cell_type": "code",
   "execution_count": 6,
   "id": "8301c422",
   "metadata": {},
   "outputs": [
    {
     "data": {
      "application/vnd.microsoft.datawrangler.viewer.v0+json": {
       "columns": [
        {
         "name": "index",
         "rawType": "int64",
         "type": "integer"
        },
        {
         "name": "Transaction_ID",
         "rawType": "object",
         "type": "string"
        },
        {
         "name": "User_ID",
         "rawType": "object",
         "type": "string"
        },
        {
         "name": "Transaction_Amount",
         "rawType": "float64",
         "type": "float"
        },
        {
         "name": "Transaction_Type",
         "rawType": "object",
         "type": "string"
        },
        {
         "name": "Timestamp",
         "rawType": "object",
         "type": "string"
        },
        {
         "name": "Account_Balance",
         "rawType": "float64",
         "type": "float"
        },
        {
         "name": "Device_Type",
         "rawType": "object",
         "type": "string"
        },
        {
         "name": "Location",
         "rawType": "object",
         "type": "string"
        },
        {
         "name": "Merchant_Category",
         "rawType": "object",
         "type": "string"
        },
        {
         "name": "IP_Address_Flag",
         "rawType": "int64",
         "type": "integer"
        },
        {
         "name": "Previous_Fraudulent_Activity",
         "rawType": "int64",
         "type": "integer"
        },
        {
         "name": "Daily_Transaction_Count",
         "rawType": "int64",
         "type": "integer"
        },
        {
         "name": "Avg_Transaction_Amount_7d",
         "rawType": "float64",
         "type": "float"
        },
        {
         "name": "Failed_Transaction_Count_7d",
         "rawType": "int64",
         "type": "integer"
        },
        {
         "name": "Card_Type",
         "rawType": "object",
         "type": "string"
        },
        {
         "name": "Card_Age",
         "rawType": "int64",
         "type": "integer"
        },
        {
         "name": "Transaction_Distance",
         "rawType": "float64",
         "type": "float"
        },
        {
         "name": "Authentication_Method",
         "rawType": "object",
         "type": "string"
        },
        {
         "name": "Risk_Score",
         "rawType": "float64",
         "type": "float"
        },
        {
         "name": "Is_Weekend",
         "rawType": "int64",
         "type": "integer"
        },
        {
         "name": "Fraud_Label",
         "rawType": "int64",
         "type": "integer"
        }
       ],
       "conversionMethod": "pd.DataFrame",
       "ref": "6d154dac-e031-43e2-93f2-d503edda004d",
       "rows": [
        [
         "0",
         "TXN_33553",
         "USER_1834",
         "39.79",
         "POS",
         "2023-08-14 19:30:00",
         "93213.17",
         "Laptop",
         "Sydney",
         "Travel",
         "0",
         "0",
         "7",
         "437.63",
         "3",
         "Amex",
         "65",
         "883.17",
         "Biometric",
         "0.8494",
         "0",
         "0"
        ],
        [
         "1",
         "TXN_9427",
         "USER_7875",
         "1.19",
         "Bank Transfer",
         "2023-06-07 04:01:00",
         "75725.25",
         "Mobile",
         "New York",
         "Clothing",
         "0",
         "0",
         "13",
         "478.76",
         "4",
         "Mastercard",
         "186",
         "2203.36",
         "Password",
         "0.0959",
         "0",
         "1"
        ],
        [
         "2",
         "TXN_199",
         "USER_2734",
         "28.96",
         "Online",
         "2023-06-20 15:25:00",
         "1588.96",
         "Tablet",
         "Mumbai",
         "Restaurants",
         "0",
         "0",
         "14",
         "50.01",
         "4",
         "Visa",
         "226",
         "1909.29",
         "Biometric",
         "0.84",
         "0",
         "1"
        ],
        [
         "3",
         "TXN_12447",
         "USER_2617",
         "254.32",
         "ATM Withdrawal",
         "2023-12-07 00:31:00",
         "76807.2",
         "Tablet",
         "New York",
         "Clothing",
         "0",
         "0",
         "8",
         "182.48",
         "4",
         "Visa",
         "76",
         "1311.86",
         "OTP",
         "0.7935",
         "0",
         "1"
        ],
        [
         "4",
         "TXN_39489",
         "USER_2014",
         "31.28",
         "POS",
         "2023-11-11 23:44:00",
         "92354.66",
         "Mobile",
         "Mumbai",
         "Electronics",
         "0",
         "1",
         "14",
         "328.69",
         "4",
         "Mastercard",
         "140",
         "966.98",
         "Password",
         "0.3819",
         "1",
         "1"
        ]
       ],
       "shape": {
        "columns": 21,
        "rows": 5
       }
      },
      "text/html": [
       "<div>\n",
       "<style scoped>\n",
       "    .dataframe tbody tr th:only-of-type {\n",
       "        vertical-align: middle;\n",
       "    }\n",
       "\n",
       "    .dataframe tbody tr th {\n",
       "        vertical-align: top;\n",
       "    }\n",
       "\n",
       "    .dataframe thead th {\n",
       "        text-align: right;\n",
       "    }\n",
       "</style>\n",
       "<table border=\"1\" class=\"dataframe\">\n",
       "  <thead>\n",
       "    <tr style=\"text-align: right;\">\n",
       "      <th></th>\n",
       "      <th>Transaction_ID</th>\n",
       "      <th>User_ID</th>\n",
       "      <th>Transaction_Amount</th>\n",
       "      <th>Transaction_Type</th>\n",
       "      <th>Timestamp</th>\n",
       "      <th>Account_Balance</th>\n",
       "      <th>Device_Type</th>\n",
       "      <th>Location</th>\n",
       "      <th>Merchant_Category</th>\n",
       "      <th>IP_Address_Flag</th>\n",
       "      <th>Previous_Fraudulent_Activity</th>\n",
       "      <th>Daily_Transaction_Count</th>\n",
       "      <th>Avg_Transaction_Amount_7d</th>\n",
       "      <th>Failed_Transaction_Count_7d</th>\n",
       "      <th>Card_Type</th>\n",
       "      <th>Card_Age</th>\n",
       "      <th>Transaction_Distance</th>\n",
       "      <th>Authentication_Method</th>\n",
       "      <th>Risk_Score</th>\n",
       "      <th>Is_Weekend</th>\n",
       "      <th>Fraud_Label</th>\n",
       "    </tr>\n",
       "  </thead>\n",
       "  <tbody>\n",
       "    <tr>\n",
       "      <th>0</th>\n",
       "      <td>TXN_33553</td>\n",
       "      <td>USER_1834</td>\n",
       "      <td>39.79</td>\n",
       "      <td>POS</td>\n",
       "      <td>2023-08-14 19:30:00</td>\n",
       "      <td>93213.17</td>\n",
       "      <td>Laptop</td>\n",
       "      <td>Sydney</td>\n",
       "      <td>Travel</td>\n",
       "      <td>0</td>\n",
       "      <td>0</td>\n",
       "      <td>7</td>\n",
       "      <td>437.63</td>\n",
       "      <td>3</td>\n",
       "      <td>Amex</td>\n",
       "      <td>65</td>\n",
       "      <td>883.17</td>\n",
       "      <td>Biometric</td>\n",
       "      <td>0.8494</td>\n",
       "      <td>0</td>\n",
       "      <td>0</td>\n",
       "    </tr>\n",
       "    <tr>\n",
       "      <th>1</th>\n",
       "      <td>TXN_9427</td>\n",
       "      <td>USER_7875</td>\n",
       "      <td>1.19</td>\n",
       "      <td>Bank Transfer</td>\n",
       "      <td>2023-06-07 04:01:00</td>\n",
       "      <td>75725.25</td>\n",
       "      <td>Mobile</td>\n",
       "      <td>New York</td>\n",
       "      <td>Clothing</td>\n",
       "      <td>0</td>\n",
       "      <td>0</td>\n",
       "      <td>13</td>\n",
       "      <td>478.76</td>\n",
       "      <td>4</td>\n",
       "      <td>Mastercard</td>\n",
       "      <td>186</td>\n",
       "      <td>2203.36</td>\n",
       "      <td>Password</td>\n",
       "      <td>0.0959</td>\n",
       "      <td>0</td>\n",
       "      <td>1</td>\n",
       "    </tr>\n",
       "    <tr>\n",
       "      <th>2</th>\n",
       "      <td>TXN_199</td>\n",
       "      <td>USER_2734</td>\n",
       "      <td>28.96</td>\n",
       "      <td>Online</td>\n",
       "      <td>2023-06-20 15:25:00</td>\n",
       "      <td>1588.96</td>\n",
       "      <td>Tablet</td>\n",
       "      <td>Mumbai</td>\n",
       "      <td>Restaurants</td>\n",
       "      <td>0</td>\n",
       "      <td>0</td>\n",
       "      <td>14</td>\n",
       "      <td>50.01</td>\n",
       "      <td>4</td>\n",
       "      <td>Visa</td>\n",
       "      <td>226</td>\n",
       "      <td>1909.29</td>\n",
       "      <td>Biometric</td>\n",
       "      <td>0.8400</td>\n",
       "      <td>0</td>\n",
       "      <td>1</td>\n",
       "    </tr>\n",
       "    <tr>\n",
       "      <th>3</th>\n",
       "      <td>TXN_12447</td>\n",
       "      <td>USER_2617</td>\n",
       "      <td>254.32</td>\n",
       "      <td>ATM Withdrawal</td>\n",
       "      <td>2023-12-07 00:31:00</td>\n",
       "      <td>76807.20</td>\n",
       "      <td>Tablet</td>\n",
       "      <td>New York</td>\n",
       "      <td>Clothing</td>\n",
       "      <td>0</td>\n",
       "      <td>0</td>\n",
       "      <td>8</td>\n",
       "      <td>182.48</td>\n",
       "      <td>4</td>\n",
       "      <td>Visa</td>\n",
       "      <td>76</td>\n",
       "      <td>1311.86</td>\n",
       "      <td>OTP</td>\n",
       "      <td>0.7935</td>\n",
       "      <td>0</td>\n",
       "      <td>1</td>\n",
       "    </tr>\n",
       "    <tr>\n",
       "      <th>4</th>\n",
       "      <td>TXN_39489</td>\n",
       "      <td>USER_2014</td>\n",
       "      <td>31.28</td>\n",
       "      <td>POS</td>\n",
       "      <td>2023-11-11 23:44:00</td>\n",
       "      <td>92354.66</td>\n",
       "      <td>Mobile</td>\n",
       "      <td>Mumbai</td>\n",
       "      <td>Electronics</td>\n",
       "      <td>0</td>\n",
       "      <td>1</td>\n",
       "      <td>14</td>\n",
       "      <td>328.69</td>\n",
       "      <td>4</td>\n",
       "      <td>Mastercard</td>\n",
       "      <td>140</td>\n",
       "      <td>966.98</td>\n",
       "      <td>Password</td>\n",
       "      <td>0.3819</td>\n",
       "      <td>1</td>\n",
       "      <td>1</td>\n",
       "    </tr>\n",
       "  </tbody>\n",
       "</table>\n",
       "</div>"
      ],
      "text/plain": [
       "  Transaction_ID    User_ID  ...  Is_Weekend Fraud_Label\n",
       "0      TXN_33553  USER_1834  ...           0           0\n",
       "1       TXN_9427  USER_7875  ...           0           1\n",
       "2        TXN_199  USER_2734  ...           0           1\n",
       "3      TXN_12447  USER_2617  ...           0           1\n",
       "4      TXN_39489  USER_2014  ...           1           1\n",
       "\n",
       "[5 rows x 21 columns]"
      ]
     },
     "execution_count": 6,
     "metadata": {},
     "output_type": "execute_result"
    }
   ],
   "source": [
    "df = pd.read_csv('../data/data.csv')  # or adjust path if needed\n",
    "df.head()\n"
   ]
  },
  {
   "cell_type": "code",
   "execution_count": 7,
   "id": "44a8ad3d",
   "metadata": {},
   "outputs": [
    {
     "name": "stdout",
     "output_type": "stream",
     "text": [
      "Initial shape: (50000, 21)\n"
     ]
    }
   ],
   "source": [
    "print(\"Initial shape:\", df.shape)"
   ]
  },
  {
   "cell_type": "code",
   "execution_count": 9,
   "id": "71dc52bc",
   "metadata": {},
   "outputs": [
    {
     "name": "stdout",
     "output_type": "stream",
     "text": [
      "Train shape: (40000, 20)\n",
      "Test shape: (10000, 20)\n"
     ]
    }
   ],
   "source": [
    "from sklearn.model_selection import train_test_split\n",
    "\n",
    "y = df['Fraud_Label']\n",
    "X = df.drop(columns=['Fraud_Label'])\n",
    "X_train, X_test, y_train, y_test = train_test_split(X, y, test_size=0.2, random_state=42)\n",
    "print(\"Train shape:\", X_train.shape)\n",
    "print(\"Test shape:\", X_test.shape)"
   ]
  },
  {
   "cell_type": "code",
   "execution_count": 10,
   "id": "3f52fd87",
   "metadata": {},
   "outputs": [
    {
     "name": "stdout",
     "output_type": "stream",
     "text": [
      "Missing values:\n",
      " Transaction_ID                  0\n",
      "User_ID                         0\n",
      "Transaction_Amount              0\n",
      "Transaction_Type                0\n",
      "Timestamp                       0\n",
      "Account_Balance                 0\n",
      "Device_Type                     0\n",
      "Location                        0\n",
      "Merchant_Category               0\n",
      "IP_Address_Flag                 0\n",
      "Previous_Fraudulent_Activity    0\n",
      "Daily_Transaction_Count         0\n",
      "Avg_Transaction_Amount_7d       0\n",
      "Failed_Transaction_Count_7d     0\n",
      "Card_Type                       0\n",
      "Card_Age                        0\n",
      "Transaction_Distance            0\n",
      "Authentication_Method           0\n",
      "Risk_Score                      0\n",
      "Is_Weekend                      0\n",
      "Fraud_Label                     0\n",
      "dtype: int64\n"
     ]
    }
   ],
   "source": [
    "#Handle missing values\n",
    "print(\"Missing values:\\n\", df.isnull().sum())\n",
    "df = df.dropna()  "
   ]
  },
  {
   "cell_type": "code",
   "execution_count": 11,
   "id": "06dbd25b",
   "metadata": {},
   "outputs": [],
   "source": [
    "#  Convert Timestamp to datetime\n",
    "df['Timestamp'] = pd.to_datetime(df['Timestamp'])\n",
    "\n",
    "# Extract new time features\n",
    "df['Hour'] = df['Timestamp'].dt.hour\n",
    "df['DayOfWeek'] = df['Timestamp'].dt.dayofweek\n",
    "df['Month'] = df['Timestamp'].dt.month"
   ]
  },
  {
   "cell_type": "code",
   "execution_count": 12,
   "id": "54054bb8",
   "metadata": {},
   "outputs": [],
   "source": [
    "# Drop unnecessary columns\n",
    "drop_cols = ['Transaction_ID', 'User_ID', 'Timestamp']\n",
    "df.drop(columns=drop_cols, inplace=True)"
   ]
  },
  {
   "cell_type": "code",
   "execution_count": 13,
   "id": "b0c633cb",
   "metadata": {},
   "outputs": [],
   "source": [
    "categorical_cols = df.select_dtypes(include='object').columns.tolist()\n",
    "\n",
    "le = LabelEncoder()\n",
    "for col in categorical_cols:\n",
    "    df[col] = le.fit_transform(df[col])\n"
   ]
  },
  {
   "cell_type": "code",
   "execution_count": 14,
   "id": "9351ab30",
   "metadata": {},
   "outputs": [],
   "source": [
    "numerical_cols = df.select_dtypes(include=['int64', 'float64']).columns.tolist()\n",
    "numerical_cols.remove('Fraud_Label')"
   ]
  },
  {
   "cell_type": "code",
   "execution_count": 15,
   "id": "f4e1f5e4",
   "metadata": {},
   "outputs": [],
   "source": [
    "scaler = StandardScaler()\n",
    "df[numerical_cols] = scaler.fit_transform(df[numerical_cols])"
   ]
  },
  {
   "cell_type": "code",
   "execution_count": 16,
   "id": "ecb4eb06",
   "metadata": {},
   "outputs": [
    {
     "data": {
      "application/vnd.microsoft.datawrangler.viewer.v0+json": {
       "columns": [
        {
         "name": "index",
         "rawType": "int64",
         "type": "integer"
        },
        {
         "name": "Transaction_Amount",
         "rawType": "float64",
         "type": "float"
        },
        {
         "name": "Transaction_Type",
         "rawType": "float64",
         "type": "float"
        },
        {
         "name": "Account_Balance",
         "rawType": "float64",
         "type": "float"
        },
        {
         "name": "Device_Type",
         "rawType": "float64",
         "type": "float"
        },
        {
         "name": "Location",
         "rawType": "float64",
         "type": "float"
        },
        {
         "name": "Merchant_Category",
         "rawType": "float64",
         "type": "float"
        },
        {
         "name": "IP_Address_Flag",
         "rawType": "float64",
         "type": "float"
        },
        {
         "name": "Previous_Fraudulent_Activity",
         "rawType": "float64",
         "type": "float"
        },
        {
         "name": "Daily_Transaction_Count",
         "rawType": "float64",
         "type": "float"
        },
        {
         "name": "Avg_Transaction_Amount_7d",
         "rawType": "float64",
         "type": "float"
        },
        {
         "name": "Failed_Transaction_Count_7d",
         "rawType": "float64",
         "type": "float"
        },
        {
         "name": "Card_Type",
         "rawType": "float64",
         "type": "float"
        },
        {
         "name": "Card_Age",
         "rawType": "float64",
         "type": "float"
        },
        {
         "name": "Transaction_Distance",
         "rawType": "float64",
         "type": "float"
        },
        {
         "name": "Authentication_Method",
         "rawType": "float64",
         "type": "float"
        },
        {
         "name": "Risk_Score",
         "rawType": "float64",
         "type": "float"
        },
        {
         "name": "Is_Weekend",
         "rawType": "float64",
         "type": "float"
        },
        {
         "name": "Fraud_Label",
         "rawType": "int64",
         "type": "integer"
        },
        {
         "name": "Hour",
         "rawType": "int32",
         "type": "integer"
        },
        {
         "name": "DayOfWeek",
         "rawType": "int32",
         "type": "integer"
        },
        {
         "name": "Month",
         "rawType": "int32",
         "type": "integer"
        }
       ],
       "conversionMethod": "pd.DataFrame",
       "ref": "8142da36-2680-4ab0-b2ea-e95bcc50fdf4",
       "rows": [
        [
         "0",
         "-0.6041467664655897",
         "1.3381890639942318",
         "1.492310462687536",
         "-1.2291177624732628",
         "0.698577812915674",
         "1.413570813662477",
         "-0.22989830851796852",
         "-0.33036238874465096",
         "-0.12012089979892845",
         "1.289835614627155",
         "0.7045811705802699",
         "-1.3491757942020555",
         "-0.7972724262633516",
         "-1.1206621448297185",
         "-1.3389867545091918",
         "1.208753454532654",
         "-0.6540925869800269",
         "0",
         "19",
         "0",
         "8"
        ],
        [
         "1",
         "-0.9952851306943635",
         "-0.4506185179734883",
         "0.8842500992892727",
         "-0.004848107832377859",
         "-0.006628943510405039",
         "-1.4130902812763373",
         "-0.22989830851796852",
         "-0.33036238874465096",
         "1.3651758580808229",
         "1.5807519266965002",
         "1.4116654194013665",
         "0.44032442358988466",
         "0.9567288249719326",
         "-0.20513472659067453",
         "1.3422399762758777",
         "-1.4096457874319048",
         "-0.6540925869800269",
         "1",
         "4",
         "2",
         "6"
        ],
        [
         "2",
         "-0.7138884370510203",
         "0.44378527301037174",
         "-1.6934915325571127",
         "1.219421546808507",
         "-0.7118356999364841",
         "0.7069055399277734",
         "-0.22989830851796852",
         "-0.33036238874465096",
         "1.6127253177274483",
         "-1.4518366655653971",
         "1.4116654194013665",
         "1.3350745324858546",
         "1.5365639493472332",
         "-0.4090668483925029",
         "-1.3389867545091918",
         "1.1760886199281853",
         "-0.6540925869800269",
         "1",
         "15",
         "1",
         "6"
        ],
        [
         "3",
         "1.569711090477385",
         "-1.3450223089573483",
         "0.9218698339506132",
         "1.219421546808507",
         "-0.006628943510405039",
         "-1.4130902812763373",
         "-0.22989830851796852",
         "-0.33036238874465096",
         "0.12742855984769677",
         "-0.514864045584211",
         "1.4116654194013665",
         "1.3350745324858546",
         "-0.6378177670601439",
         "-0.8233735356712673",
         "-0.4452445109141687",
         "1.0145019381082092",
         "-0.6540925869800269",
         "1",
         "0",
         "3",
         "12"
        ],
        [
         "4",
         "-0.6903796027243168",
         "1.3381890639942318",
         "1.4624598056293472",
         "-0.004848107832377859",
         "-0.7118356999364841",
         "-0.7064250075416338",
         "-0.22989830851796852",
         "3.026978960286354",
         "1.6127253177274483",
         "0.519292871207887",
         "1.4116654194013665",
         "0.44032442358988466",
         "0.2899184319403369",
         "-1.0625414554421195",
         "1.3422399762758777",
         "-0.4158008196789336",
         "1.5288355500511668",
         "1",
         "23",
         "5",
         "11"
        ]
       ],
       "shape": {
        "columns": 21,
        "rows": 5
       }
      },
      "text/html": [
       "<div>\n",
       "<style scoped>\n",
       "    .dataframe tbody tr th:only-of-type {\n",
       "        vertical-align: middle;\n",
       "    }\n",
       "\n",
       "    .dataframe tbody tr th {\n",
       "        vertical-align: top;\n",
       "    }\n",
       "\n",
       "    .dataframe thead th {\n",
       "        text-align: right;\n",
       "    }\n",
       "</style>\n",
       "<table border=\"1\" class=\"dataframe\">\n",
       "  <thead>\n",
       "    <tr style=\"text-align: right;\">\n",
       "      <th></th>\n",
       "      <th>Transaction_Amount</th>\n",
       "      <th>Transaction_Type</th>\n",
       "      <th>Account_Balance</th>\n",
       "      <th>Device_Type</th>\n",
       "      <th>Location</th>\n",
       "      <th>Merchant_Category</th>\n",
       "      <th>IP_Address_Flag</th>\n",
       "      <th>Previous_Fraudulent_Activity</th>\n",
       "      <th>Daily_Transaction_Count</th>\n",
       "      <th>Avg_Transaction_Amount_7d</th>\n",
       "      <th>Failed_Transaction_Count_7d</th>\n",
       "      <th>Card_Type</th>\n",
       "      <th>Card_Age</th>\n",
       "      <th>Transaction_Distance</th>\n",
       "      <th>Authentication_Method</th>\n",
       "      <th>Risk_Score</th>\n",
       "      <th>Is_Weekend</th>\n",
       "      <th>Fraud_Label</th>\n",
       "      <th>Hour</th>\n",
       "      <th>DayOfWeek</th>\n",
       "      <th>Month</th>\n",
       "    </tr>\n",
       "  </thead>\n",
       "  <tbody>\n",
       "    <tr>\n",
       "      <th>0</th>\n",
       "      <td>-0.604147</td>\n",
       "      <td>1.338189</td>\n",
       "      <td>1.492310</td>\n",
       "      <td>-1.229118</td>\n",
       "      <td>0.698578</td>\n",
       "      <td>1.413571</td>\n",
       "      <td>-0.229898</td>\n",
       "      <td>-0.330362</td>\n",
       "      <td>-0.120121</td>\n",
       "      <td>1.289836</td>\n",
       "      <td>0.704581</td>\n",
       "      <td>-1.349176</td>\n",
       "      <td>-0.797272</td>\n",
       "      <td>-1.120662</td>\n",
       "      <td>-1.338987</td>\n",
       "      <td>1.208753</td>\n",
       "      <td>-0.654093</td>\n",
       "      <td>0</td>\n",
       "      <td>19</td>\n",
       "      <td>0</td>\n",
       "      <td>8</td>\n",
       "    </tr>\n",
       "    <tr>\n",
       "      <th>1</th>\n",
       "      <td>-0.995285</td>\n",
       "      <td>-0.450619</td>\n",
       "      <td>0.884250</td>\n",
       "      <td>-0.004848</td>\n",
       "      <td>-0.006629</td>\n",
       "      <td>-1.413090</td>\n",
       "      <td>-0.229898</td>\n",
       "      <td>-0.330362</td>\n",
       "      <td>1.365176</td>\n",
       "      <td>1.580752</td>\n",
       "      <td>1.411665</td>\n",
       "      <td>0.440324</td>\n",
       "      <td>0.956729</td>\n",
       "      <td>-0.205135</td>\n",
       "      <td>1.342240</td>\n",
       "      <td>-1.409646</td>\n",
       "      <td>-0.654093</td>\n",
       "      <td>1</td>\n",
       "      <td>4</td>\n",
       "      <td>2</td>\n",
       "      <td>6</td>\n",
       "    </tr>\n",
       "    <tr>\n",
       "      <th>2</th>\n",
       "      <td>-0.713888</td>\n",
       "      <td>0.443785</td>\n",
       "      <td>-1.693492</td>\n",
       "      <td>1.219422</td>\n",
       "      <td>-0.711836</td>\n",
       "      <td>0.706906</td>\n",
       "      <td>-0.229898</td>\n",
       "      <td>-0.330362</td>\n",
       "      <td>1.612725</td>\n",
       "      <td>-1.451837</td>\n",
       "      <td>1.411665</td>\n",
       "      <td>1.335075</td>\n",
       "      <td>1.536564</td>\n",
       "      <td>-0.409067</td>\n",
       "      <td>-1.338987</td>\n",
       "      <td>1.176089</td>\n",
       "      <td>-0.654093</td>\n",
       "      <td>1</td>\n",
       "      <td>15</td>\n",
       "      <td>1</td>\n",
       "      <td>6</td>\n",
       "    </tr>\n",
       "    <tr>\n",
       "      <th>3</th>\n",
       "      <td>1.569711</td>\n",
       "      <td>-1.345022</td>\n",
       "      <td>0.921870</td>\n",
       "      <td>1.219422</td>\n",
       "      <td>-0.006629</td>\n",
       "      <td>-1.413090</td>\n",
       "      <td>-0.229898</td>\n",
       "      <td>-0.330362</td>\n",
       "      <td>0.127429</td>\n",
       "      <td>-0.514864</td>\n",
       "      <td>1.411665</td>\n",
       "      <td>1.335075</td>\n",
       "      <td>-0.637818</td>\n",
       "      <td>-0.823374</td>\n",
       "      <td>-0.445245</td>\n",
       "      <td>1.014502</td>\n",
       "      <td>-0.654093</td>\n",
       "      <td>1</td>\n",
       "      <td>0</td>\n",
       "      <td>3</td>\n",
       "      <td>12</td>\n",
       "    </tr>\n",
       "    <tr>\n",
       "      <th>4</th>\n",
       "      <td>-0.690380</td>\n",
       "      <td>1.338189</td>\n",
       "      <td>1.462460</td>\n",
       "      <td>-0.004848</td>\n",
       "      <td>-0.711836</td>\n",
       "      <td>-0.706425</td>\n",
       "      <td>-0.229898</td>\n",
       "      <td>3.026979</td>\n",
       "      <td>1.612725</td>\n",
       "      <td>0.519293</td>\n",
       "      <td>1.411665</td>\n",
       "      <td>0.440324</td>\n",
       "      <td>0.289918</td>\n",
       "      <td>-1.062541</td>\n",
       "      <td>1.342240</td>\n",
       "      <td>-0.415801</td>\n",
       "      <td>1.528836</td>\n",
       "      <td>1</td>\n",
       "      <td>23</td>\n",
       "      <td>5</td>\n",
       "      <td>11</td>\n",
       "    </tr>\n",
       "  </tbody>\n",
       "</table>\n",
       "</div>"
      ],
      "text/plain": [
       "   Transaction_Amount  Transaction_Type  ...  DayOfWeek  Month\n",
       "0           -0.604147          1.338189  ...          0      8\n",
       "1           -0.995285         -0.450619  ...          2      6\n",
       "2           -0.713888          0.443785  ...          1      6\n",
       "3            1.569711         -1.345022  ...          3     12\n",
       "4           -0.690380          1.338189  ...          5     11\n",
       "\n",
       "[5 rows x 21 columns]"
      ]
     },
     "execution_count": 16,
     "metadata": {},
     "output_type": "execute_result"
    }
   ],
   "source": [
    "df.head()"
   ]
  },
  {
   "cell_type": "code",
   "execution_count": 17,
   "id": "8995aa7d",
   "metadata": {},
   "outputs": [],
   "source": [
    "df.to_csv('../data/processed_data.csv', index=False)  # Save the processed data"
   ]
  },
  {
   "cell_type": "code",
   "execution_count": null,
   "id": "4dba6306",
   "metadata": {},
   "outputs": [],
   "source": []
  }
 ],
 "metadata": {
  "kernelspec": {
   "display_name": "Python 3",
   "language": "python",
   "name": "python3"
  },
  "language_info": {
   "codemirror_mode": {
    "name": "ipython",
    "version": 3
   },
   "file_extension": ".py",
   "mimetype": "text/x-python",
   "name": "python",
   "nbconvert_exporter": "python",
   "pygments_lexer": "ipython3",
   "version": "3.13.1"
  }
 },
 "nbformat": 4,
 "nbformat_minor": 5
}

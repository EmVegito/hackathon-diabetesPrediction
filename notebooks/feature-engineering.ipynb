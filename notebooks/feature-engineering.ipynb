{
 "cells": [
  {
   "cell_type": "code",
   "execution_count": 22,
   "id": "e87e5dec",
   "metadata": {},
   "outputs": [],
   "source": [
    "import pandas as pd\n",
    "import numpy as np\n",
    "from sklearn.model_selection import train_test_split\n",
    "from sklearn.preprocessing import StandardScaler, OneHotEncoder\n",
    "from sklearn.compose import ColumnTransformer\n",
    "from sklearn.pipeline import Pipeline\n",
    "import warnings\n",
    "warnings.filterwarnings('ignore')"
   ]
  },
  {
   "cell_type": "code",
   "execution_count": 23,
   "id": "8ccd6b08",
   "metadata": {},
   "outputs": [
    {
     "name": "stdout",
     "output_type": "stream",
     "text": [
      "Dataset loaded with shape: (6362620, 11)\n"
     ]
    }
   ],
   "source": [
    "df = pd.read_csv(\"../data/data.csv\")\n",
    "print(f\"Dataset loaded with shape: {df.shape}\")"
   ]
  },
  {
   "cell_type": "code",
   "execution_count": 24,
   "id": "26fc28f5",
   "metadata": {},
   "outputs": [],
   "source": [
    "df_copy = df.copy()"
   ]
  },
  {
   "cell_type": "code",
   "execution_count": 25,
   "id": "2460ef74",
   "metadata": {},
   "outputs": [],
   "source": [
    "# bin the 'step' column into 24 bins\n",
    "df_copy['time_period'] = df_copy['step'] % 24"
   ]
  },
  {
   "cell_type": "code",
   "execution_count": 26,
   "id": "aafe9aa8",
   "metadata": {},
   "outputs": [],
   "source": [
    "#this is assuming steps are hours\n",
    "df_copy['day'] = df_copy['step'] // 24"
   ]
  },
  {
   "cell_type": "code",
   "execution_count": 27,
   "id": "d7e60284",
   "metadata": {},
   "outputs": [],
   "source": [
    "#to convert to a normal distribution\n",
    "df_copy['log_amount'] = np.log1p(df_copy['amount'])"
   ]
  },
  {
   "cell_type": "code",
   "execution_count": 28,
   "id": "89b3d5e3",
   "metadata": {},
   "outputs": [],
   "source": [
    "# bin the 'amount' column into 10 bins\n",
    "df_copy['amount_bin'] = pd.qcut(df_copy['amount'], q=10, labels=False, duplicates='drop')"
   ]
  },
  {
   "cell_type": "code",
   "execution_count": 29,
   "id": "b3b37b01",
   "metadata": {},
   "outputs": [],
   "source": [
    "df_copy['orig_balance_diff'] = df_copy['newbalanceOrig'] - df_copy['oldbalanceOrg']\n",
    "        \n",
    "# Check if balance becomes zero after transaction\n",
    "df_copy['orig_zero_after_transaction'] = (df_copy['newbalanceOrig'] == 0).astype(int)\n",
    "\n",
    "# Calculate transaction to balance ratio\n",
    "df_copy['orig_transaction_to_balance_ratio'] = df_copy['amount'] / (df_copy['oldbalanceOrg'] + 1)"
   ]
  },
  {
   "cell_type": "code",
   "execution_count": 30,
   "id": "f1fcee48",
   "metadata": {},
   "outputs": [],
   "source": [
    "# Calculate the difference in balance\n",
    "df_copy['dest_balance_diff'] = df_copy['newbalanceDest'] - df_copy['oldbalanceDest']\n",
    "\n",
    "# Check if balance becomes zero after transaction\n",
    "df_copy['dest_zero_after_transaction'] = (df_copy['newbalanceDest'] == 0).astype(int)\n",
    "\n",
    "# Calculate transaction to balance ratio\n",
    "df_copy['dest_transaction_to_balance_ratio'] = df_copy['amount'] / (df_copy['oldbalanceDest'] + 1)"
   ]
  },
  {
   "cell_type": "code",
   "execution_count": 31,
   "id": "6dfcd605",
   "metadata": {},
   "outputs": [
    {
     "name": "stdout",
     "output_type": "stream",
     "text": [
      "Added feature to detect if origin amount matches balance difference\n",
      "Added feature to detect if destination amount matches balance difference\n"
     ]
    }
   ],
   "source": [
    " # Check if the amount matches the balance difference\n",
    "if all(col in df_copy.columns for col in ['amount', 'oldbalanceOrg', 'newbalanceOrig']):\n",
    "    df_copy['orig_amount_matches_balance_diff'] = (abs(df_copy['oldbalanceOrg'] - df_copy['newbalanceOrig'] - df_copy['amount']) < 0.01).astype(int)\n",
    "    print(\"Added feature to detect if origin amount matches balance difference\")\n",
    "\n",
    "if all(col in df_copy.columns for col in ['amount', 'oldbalanceDest', 'newbalanceDest']):\n",
    "    df_copy['dest_amount_matches_balance_diff'] = (abs(df_copy['newbalanceDest'] - df_copy['oldbalanceDest'] - df_copy['amount']) < 0.01).astype(int)\n",
    "    print(\"Added feature to detect if destination amount matches balance difference\")"
   ]
  },
  {
   "cell_type": "code",
   "execution_count": 33,
   "id": "3e28dda5",
   "metadata": {},
   "outputs": [],
   "source": [
    "frequency= df_copy['nameOrig'].value_counts()\n",
    "df_copy['nameOrig_freq'] = df_copy['nameOrig'].map(frequency)\n",
    "\n",
    "df_copy.drop(columns=['nameOrig'], inplace=True)\n"
   ]
  },
  {
   "cell_type": "code",
   "execution_count": null,
   "id": "63e8d2df",
   "metadata": {},
   "outputs": [],
   "source": [
    "frequency_dest = df_copy['nameDest'].value_counts()\n",
    "df_copy['nameDest_freq'] = df_copy['nameDest'].map(frequency_dest)\n",
    "df_copy.drop(columns=['nameDest'], inplace=True)"
   ]
  },
  {
   "cell_type": "code",
   "execution_count": 40,
   "id": "12995f4e",
   "metadata": {},
   "outputs": [],
   "source": [
    "df_copy.drop(columns=['step', 'amount', 'oldbalanceOrg', 'newbalanceOrig', 'oldbalanceDest', 'newbalanceDest'], inplace=True)"
   ]
  },
  {
   "cell_type": "code",
   "execution_count": 41,
   "id": "1451d0f4",
   "metadata": {},
   "outputs": [
    {
     "data": {
      "text/plain": [
       "orig_amount_matches_balance_diff\n",
       "0    5066426\n",
       "1    1296194\n",
       "Name: count, dtype: int64"
      ]
     },
     "execution_count": 41,
     "metadata": {},
     "output_type": "execute_result"
    }
   ],
   "source": [
    "df_copy['orig_amount_matches_balance_diff'].value_counts()"
   ]
  },
  {
   "cell_type": "code",
   "execution_count": 42,
   "id": "4fe54730",
   "metadata": {},
   "outputs": [
    {
     "data": {
      "application/vnd.microsoft.datawrangler.viewer.v0+json": {
       "columns": [
        {
         "name": "index",
         "rawType": "int64",
         "type": "integer"
        },
        {
         "name": "type",
         "rawType": "object",
         "type": "string"
        },
        {
         "name": "isFraud",
         "rawType": "int64",
         "type": "integer"
        },
        {
         "name": "isFlaggedFraud",
         "rawType": "int64",
         "type": "integer"
        },
        {
         "name": "time_period",
         "rawType": "int64",
         "type": "integer"
        },
        {
         "name": "day",
         "rawType": "int64",
         "type": "integer"
        },
        {
         "name": "log_amount",
         "rawType": "float64",
         "type": "float"
        },
        {
         "name": "amount_bin",
         "rawType": "int64",
         "type": "integer"
        },
        {
         "name": "orig_balance_diff",
         "rawType": "float64",
         "type": "float"
        },
        {
         "name": "orig_zero_after_transaction",
         "rawType": "int64",
         "type": "integer"
        },
        {
         "name": "orig_transaction_to_balance_ratio",
         "rawType": "float64",
         "type": "float"
        },
        {
         "name": "dest_balance_diff",
         "rawType": "float64",
         "type": "float"
        },
        {
         "name": "dest_zero_after_transaction",
         "rawType": "int64",
         "type": "integer"
        },
        {
         "name": "dest_transaction_to_balance_ratio",
         "rawType": "float64",
         "type": "float"
        },
        {
         "name": "orig_amount_matches_balance_diff",
         "rawType": "int64",
         "type": "integer"
        },
        {
         "name": "dest_amount_matches_balance_diff",
         "rawType": "int64",
         "type": "integer"
        },
        {
         "name": "nameOrig_freq",
         "rawType": "int64",
         "type": "integer"
        },
        {
         "name": "nameDest_freq",
         "rawType": "int64",
         "type": "integer"
        }
       ],
       "conversionMethod": "pd.DataFrame",
       "ref": "c990a966-365c-4b77-baa0-07f17eac6f74",
       "rows": [
        [
         "0",
         "PAYMENT",
         "0",
         "0",
         "1",
         "0",
         "9.194276028581655",
         "1",
         "-9839.640000000014",
         "0",
         "0.057833628193749737",
         "0.0",
         "1",
         "9839.64",
         "1",
         "0",
         "1",
         "1"
        ],
        [
         "1",
         "PAYMENT",
         "0",
         "0",
         "1",
         "0",
         "7.531166454857185",
         "0",
         "-1864.2799999999988",
         "0",
         "0.08773082352941176",
         "0.0",
         "1",
         "1864.28",
         "1",
         "0",
         "1",
         "1"
        ],
        [
         "2",
         "TRANSFER",
         "1",
         "0",
         "1",
         "0",
         "5.204006687076795",
         "0",
         "-181.0",
         "1",
         "0.9945054945054945",
         "0.0",
         "1",
         "181.0",
         "1",
         "0",
         "1",
         "44"
        ],
        [
         "3",
         "CASH_OUT",
         "1",
         "0",
         "1",
         "0",
         "5.204006687076795",
         "0",
         "-181.0",
         "1",
         "0.9945054945054945",
         "-21182.0",
         "1",
         "0.008544587641032903",
         "1",
         "0",
         "1",
         "41"
        ],
        [
         "4",
         "PAYMENT",
         "0",
         "0",
         "1",
         "0",
         "9.364703029334617",
         "2",
         "-11668.14",
         "0",
         "0.28078787149560824",
         "0.0",
         "1",
         "11668.14",
         "1",
         "0",
         "1",
         "1"
        ]
       ],
       "shape": {
        "columns": 17,
        "rows": 5
       }
      },
      "text/html": [
       "<div>\n",
       "<style scoped>\n",
       "    .dataframe tbody tr th:only-of-type {\n",
       "        vertical-align: middle;\n",
       "    }\n",
       "\n",
       "    .dataframe tbody tr th {\n",
       "        vertical-align: top;\n",
       "    }\n",
       "\n",
       "    .dataframe thead th {\n",
       "        text-align: right;\n",
       "    }\n",
       "</style>\n",
       "<table border=\"1\" class=\"dataframe\">\n",
       "  <thead>\n",
       "    <tr style=\"text-align: right;\">\n",
       "      <th></th>\n",
       "      <th>type</th>\n",
       "      <th>isFraud</th>\n",
       "      <th>isFlaggedFraud</th>\n",
       "      <th>time_period</th>\n",
       "      <th>day</th>\n",
       "      <th>log_amount</th>\n",
       "      <th>amount_bin</th>\n",
       "      <th>orig_balance_diff</th>\n",
       "      <th>orig_zero_after_transaction</th>\n",
       "      <th>orig_transaction_to_balance_ratio</th>\n",
       "      <th>dest_balance_diff</th>\n",
       "      <th>dest_zero_after_transaction</th>\n",
       "      <th>dest_transaction_to_balance_ratio</th>\n",
       "      <th>orig_amount_matches_balance_diff</th>\n",
       "      <th>dest_amount_matches_balance_diff</th>\n",
       "      <th>nameOrig_freq</th>\n",
       "      <th>nameDest_freq</th>\n",
       "    </tr>\n",
       "  </thead>\n",
       "  <tbody>\n",
       "    <tr>\n",
       "      <th>0</th>\n",
       "      <td>PAYMENT</td>\n",
       "      <td>0</td>\n",
       "      <td>0</td>\n",
       "      <td>1</td>\n",
       "      <td>0</td>\n",
       "      <td>9.194276</td>\n",
       "      <td>1</td>\n",
       "      <td>-9839.64</td>\n",
       "      <td>0</td>\n",
       "      <td>0.057834</td>\n",
       "      <td>0.0</td>\n",
       "      <td>1</td>\n",
       "      <td>9839.640000</td>\n",
       "      <td>1</td>\n",
       "      <td>0</td>\n",
       "      <td>1</td>\n",
       "      <td>1</td>\n",
       "    </tr>\n",
       "    <tr>\n",
       "      <th>1</th>\n",
       "      <td>PAYMENT</td>\n",
       "      <td>0</td>\n",
       "      <td>0</td>\n",
       "      <td>1</td>\n",
       "      <td>0</td>\n",
       "      <td>7.531166</td>\n",
       "      <td>0</td>\n",
       "      <td>-1864.28</td>\n",
       "      <td>0</td>\n",
       "      <td>0.087731</td>\n",
       "      <td>0.0</td>\n",
       "      <td>1</td>\n",
       "      <td>1864.280000</td>\n",
       "      <td>1</td>\n",
       "      <td>0</td>\n",
       "      <td>1</td>\n",
       "      <td>1</td>\n",
       "    </tr>\n",
       "    <tr>\n",
       "      <th>2</th>\n",
       "      <td>TRANSFER</td>\n",
       "      <td>1</td>\n",
       "      <td>0</td>\n",
       "      <td>1</td>\n",
       "      <td>0</td>\n",
       "      <td>5.204007</td>\n",
       "      <td>0</td>\n",
       "      <td>-181.00</td>\n",
       "      <td>1</td>\n",
       "      <td>0.994505</td>\n",
       "      <td>0.0</td>\n",
       "      <td>1</td>\n",
       "      <td>181.000000</td>\n",
       "      <td>1</td>\n",
       "      <td>0</td>\n",
       "      <td>1</td>\n",
       "      <td>44</td>\n",
       "    </tr>\n",
       "    <tr>\n",
       "      <th>3</th>\n",
       "      <td>CASH_OUT</td>\n",
       "      <td>1</td>\n",
       "      <td>0</td>\n",
       "      <td>1</td>\n",
       "      <td>0</td>\n",
       "      <td>5.204007</td>\n",
       "      <td>0</td>\n",
       "      <td>-181.00</td>\n",
       "      <td>1</td>\n",
       "      <td>0.994505</td>\n",
       "      <td>-21182.0</td>\n",
       "      <td>1</td>\n",
       "      <td>0.008545</td>\n",
       "      <td>1</td>\n",
       "      <td>0</td>\n",
       "      <td>1</td>\n",
       "      <td>41</td>\n",
       "    </tr>\n",
       "    <tr>\n",
       "      <th>4</th>\n",
       "      <td>PAYMENT</td>\n",
       "      <td>0</td>\n",
       "      <td>0</td>\n",
       "      <td>1</td>\n",
       "      <td>0</td>\n",
       "      <td>9.364703</td>\n",
       "      <td>2</td>\n",
       "      <td>-11668.14</td>\n",
       "      <td>0</td>\n",
       "      <td>0.280788</td>\n",
       "      <td>0.0</td>\n",
       "      <td>1</td>\n",
       "      <td>11668.140000</td>\n",
       "      <td>1</td>\n",
       "      <td>0</td>\n",
       "      <td>1</td>\n",
       "      <td>1</td>\n",
       "    </tr>\n",
       "  </tbody>\n",
       "</table>\n",
       "</div>"
      ],
      "text/plain": [
       "       type  isFraud  isFlaggedFraud  time_period  day  log_amount  \\\n",
       "0   PAYMENT        0               0            1    0    9.194276   \n",
       "1   PAYMENT        0               0            1    0    7.531166   \n",
       "2  TRANSFER        1               0            1    0    5.204007   \n",
       "3  CASH_OUT        1               0            1    0    5.204007   \n",
       "4   PAYMENT        0               0            1    0    9.364703   \n",
       "\n",
       "   amount_bin  orig_balance_diff  orig_zero_after_transaction  \\\n",
       "0           1           -9839.64                            0   \n",
       "1           0           -1864.28                            0   \n",
       "2           0            -181.00                            1   \n",
       "3           0            -181.00                            1   \n",
       "4           2          -11668.14                            0   \n",
       "\n",
       "   orig_transaction_to_balance_ratio  dest_balance_diff  \\\n",
       "0                           0.057834                0.0   \n",
       "1                           0.087731                0.0   \n",
       "2                           0.994505                0.0   \n",
       "3                           0.994505           -21182.0   \n",
       "4                           0.280788                0.0   \n",
       "\n",
       "   dest_zero_after_transaction  dest_transaction_to_balance_ratio  \\\n",
       "0                            1                        9839.640000   \n",
       "1                            1                        1864.280000   \n",
       "2                            1                         181.000000   \n",
       "3                            1                           0.008545   \n",
       "4                            1                       11668.140000   \n",
       "\n",
       "   orig_amount_matches_balance_diff  dest_amount_matches_balance_diff  \\\n",
       "0                                 1                                 0   \n",
       "1                                 1                                 0   \n",
       "2                                 1                                 0   \n",
       "3                                 1                                 0   \n",
       "4                                 1                                 0   \n",
       "\n",
       "   nameOrig_freq  nameDest_freq  \n",
       "0              1              1  \n",
       "1              1              1  \n",
       "2              1             44  \n",
       "3              1             41  \n",
       "4              1              1  "
      ]
     },
     "execution_count": 42,
     "metadata": {},
     "output_type": "execute_result"
    }
   ],
   "source": [
    "df_copy.head()"
   ]
  },
  {
   "cell_type": "code",
   "execution_count": null,
   "id": "35f206d7",
   "metadata": {},
   "outputs": [
    {
     "data": {
      "text/plain": [
       "isFlaggedFraud\n",
       "0    6362604\n",
       "1         16\n",
       "Name: count, dtype: int64"
      ]
     },
     "execution_count": 45,
     "metadata": {},
     "output_type": "execute_result"
    }
   ],
   "source": []
  },
  {
   "cell_type": "code",
   "execution_count": null,
   "id": "bfa3366d",
   "metadata": {},
   "outputs": [],
   "source": []
  }
 ],
 "metadata": {
  "kernelspec": {
   "display_name": "Python 3",
   "language": "python",
   "name": "python3"
  },
  "language_info": {
   "codemirror_mode": {
    "name": "ipython",
    "version": 3
   },
   "file_extension": ".py",
   "mimetype": "text/x-python",
   "name": "python",
   "nbconvert_exporter": "python",
   "pygments_lexer": "ipython3",
   "version": "3.13.1"
  }
 },
 "nbformat": 4,
 "nbformat_minor": 5
}
